{
 "cells": [
  {
   "cell_type": "markdown",
   "id": "994afe02",
   "metadata": {},
   "source": [
    "# Ingestion cruda de datos - Bronze Layer"
   ]
  },
  {
   "cell_type": "code",
   "execution_count": null,
   "id": "0f8f6a58",
   "metadata": {},
   "outputs": [],
   "source": [
    "#Parametros (podemos seleccionar la empresa especifica)\n",
    "simbolo='IBM'"
   ]
  },
  {
   "cell_type": "markdown",
   "id": "541f30e3",
   "metadata": {},
   "source": [
    "#### Importamos los datos usando la API de alphavantage"
   ]
  },
  {
   "cell_type": "code",
   "execution_count": null,
   "id": "a1f9edbb",
   "metadata": {},
   "outputs": [],
   "source": [
    "import requests\n",
    "url = f\"https://www.alphavantage.co/query?function=TIME_SERIES_INTRADAY&symbol={simbolo}&outputsize=full&interval=5min&datatype=csv&apikey=XXXXXXXX\"\n",
    "r = requests.get(url)\n",
    "path= f'/lakehouse/default/Files/{simbolo}_finance_data.csv'\n",
    "if r.status_code == 200:\n",
    "    # Guardar el contenido directamente en un archivo CSV\n",
    "    with open(path, 'wb') as file:\n",
    "        file.write(r.content)\n",
    "else:\n",
    "    print(f\"Error: {r.status_code}\")"
   ]
  }
 ],
 "metadata": {
  "language_info": {
   "name": "python"
  }
 },
 "nbformat": 4,
 "nbformat_minor": 5
}
