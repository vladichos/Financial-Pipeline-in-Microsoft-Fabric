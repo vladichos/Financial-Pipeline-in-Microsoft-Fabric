{
 "cells": [
  {
   "cell_type": "markdown",
   "id": "1bc5c9a8",
   "metadata": {},
   "source": [
    "# Transformacion y limpieza de los datos - Silver Layer"
   ]
  },
  {
   "cell_type": "code",
   "execution_count": null,
   "id": "66f32577",
   "metadata": {},
   "outputs": [],
   "source": [
    "#Parametros\n",
    "simbolo='IBM'"
   ]
  },
  {
   "cell_type": "markdown",
   "id": "caba4553",
   "metadata": {},
   "source": [
    "#### Cargamos el csv del lakehouse"
   ]
  },
  {
   "cell_type": "code",
   "execution_count": null,
   "id": "a92e3cd5",
   "metadata": {},
   "outputs": [],
   "source": [
    "df_raw = spark.read.option('header', 'true').option(\"inferSchema\", \"true\").csv('Files/IBM_finance_data.csv')"
   ]
  },
  {
   "cell_type": "markdown",
   "id": "c473855f",
   "metadata": {},
   "source": [
    "#### Limpieza, filtrado y transformaciones basicas"
   ]
  },
  {
   "cell_type": "code",
   "execution_count": null,
   "id": "bf4f2566",
   "metadata": {},
   "outputs": [],
   "source": [
    "from pyspark.sql.functions import *\n",
    "silver_df = df_raw.orderBy(col(\"timestamp\").desc())\n",
    "silver_df = silver_df.dropDuplicates([\"timestamp\"])"
   ]
  },
  {
   "cell_type": "code",
   "execution_count": null,
   "id": "14b329fe",
   "metadata": {},
   "outputs": [],
   "source": [
    "silver_df = silver_df.filter(\n",
    "        (col(\"open\") > 0) & \n",
    "        (col(\"high\") >= col(\"low\")) &\n",
    "        (col(\"high\") >= col(\"open\")) &\n",
    "        (col(\"high\") >= col(\"close\")) &\n",
    "        (col(\"low\") <= col(\"open\")) &\n",
    "        (col(\"low\") <= col(\"close\")) &\n",
    "        (col(\"volume\") >= 0))"
   ]
  },
  {
   "cell_type": "markdown",
   "id": "ee2afc59",
   "metadata": {},
   "source": [
    "#### Agregamos metadatos (fecha de procesamiento)"
   ]
  },
  {
   "cell_type": "code",
   "execution_count": null,
   "id": "7acae1e3",
   "metadata": {},
   "outputs": [],
   "source": [
    "silver_df = silver_df.withColumn(\"fecha_procesado\", current_date())"
   ]
  },
  {
   "cell_type": "code",
   "execution_count": null,
   "id": "2cfa68d8",
   "metadata": {},
   "outputs": [],
   "source": [
    "display(silver_df)"
   ]
  },
  {
   "cell_type": "code",
   "execution_count": null,
   "id": "eb7494db",
   "metadata": {},
   "outputs": [],
   "source": [
    "silver_df.write.mode('overwrite').format('delta').saveAsTable(f'{simbolo}_silver_data')"
   ]
  }
 ],
 "metadata": {
  "language_info": {
   "name": "python"
  }
 },
 "nbformat": 4,
 "nbformat_minor": 5
}
